{
 "cells": [
  {
   "cell_type": "code",
   "execution_count": 1,
   "metadata": {
    "collapsed": true
   },
   "outputs": [],
   "source": [
    "import pandas as pd\n",
    "import numpy as np\n",
    "import matplotlib.pyplot as plt\n",
    "%matplotlib inline"
   ]
  },
  {
   "cell_type": "markdown",
   "metadata": {},
   "source": [
    "### Initial random forest predictions"
   ]
  },
  {
   "cell_type": "code",
   "execution_count": null,
   "metadata": {
    "collapsed": true
   },
   "outputs": [],
   "source": [
    "hits_train = pd.read_csv(\"data/train.csv\", index_col='global_id')\n",
    "hits_test = pd.read_csv(\"data/test.csv\", index_col='global_id')\n",
    "wires = pd.read_csv(\"data/wires.csv\", index_col='wire_id')"
   ]
  },
  {
   "cell_type": "code",
   "execution_count": null,
   "metadata": {
    "collapsed": true
   },
   "outputs": [],
   "source": [
    "wires_cartesian = np.vstack((wires['wire_rho'] * np.cos(wires['wire_phi']),\n",
    "                                  wires['wire_rho'] * np.sin(wires['wire_phi']))).T\n",
    "wires_r = np.vstack((wires['wire_rho'], wires['wire_phi'])).T"
   ]
  },
  {
   "cell_type": "code",
   "execution_count": null,
   "metadata": {
    "collapsed": true
   },
   "outputs": [],
   "source": [
    "from sklearn.ensemble import RandomForestClassifier"
   ]
  },
  {
   "cell_type": "markdown",
   "metadata": {},
   "source": [
    "We tried another features: mean and std of energy for event, share of 15 neigbors with non-zero energy, average non-zero energy of 15 neighbors, but they didn't work for us. "
   ]
  },
  {
   "cell_type": "code",
   "execution_count": null,
   "metadata": {
    "collapsed": true
   },
   "outputs": [],
   "source": [
    "features_list = ['energy_deposit', 'relative_time', 'wire_x', 'wire_y', \n",
    "                 'wire_r', 'x_plus_y', 'x_minus_y', 'xy', 'log_en', 'sq_time']"
   ]
  },
  {
   "cell_type": "markdown",
   "metadata": {},
   "source": [
    "We performed an extensive manual grid search of RF parameters, and found the default ones are best, dependence of the performance on number of estimators was looking like sqrt(x), so we decided to STACK MORE ESTIMATORS. It took about 30 minutes to fit and about 18 GB of swap in addition to 4 GB RAM. We were lucky to have fast SSD drive on one of the laptops to make it possible."
   ]
  },
  {
   "cell_type": "code",
   "execution_count": null,
   "metadata": {
    "collapsed": true
   },
   "outputs": [],
   "source": [
    "clf = RandomForestClassifier(n_estimators=700, criterion='gini', \n",
    "                             max_depth=None, n_jobs=-1, verbose=0, random_state=13, \n",
    "                             min_weight_fraction_leaf=0.0, class_weight=None)"
   ]
  },
  {
   "cell_type": "code",
   "execution_count": null,
   "metadata": {
    "collapsed": true
   },
   "outputs": [],
   "source": [
    "hits_train['wire_x'] = wires_cartesian[hits_train.wire_id][:,0]\n",
    "hits_train['wire_y'] = wires_cartesian[hits_train.wire_id][:,1]\n",
    "hits_train['wire_r'] = wires_r[hits_train.wire_id][:,0]\n",
    "hits_train['x_plus_y'] = np.array(hits_train['wire_x'].values) + np.array(hits_train['wire_y'].values)\n",
    "hits_train['x_minus_y'] = np.array(hits_train['wire_x'].values) - np.array(hits_train['wire_y'].values)\n",
    "hits_train['xy'] = np.array(hits_train['wire_x'].values) * np.array(hits_train['wire_y'].values)\n",
    "hits_train['log_en'] = np.log(np.array(hits_train['energy_deposit'].values)**2)\n",
    "hits_train['sq_time'] = np.array(hits_train['relative_time'].values)**2"
   ]
  },
  {
   "cell_type": "code",
   "execution_count": null,
   "metadata": {
    "collapsed": true
   },
   "outputs": [],
   "source": [
    "hits_test['wire_x'] = wires_cartesian[hits_test.wire_id][:,0]\n",
    "hits_test['wire_y'] = wires_cartesian[hits_test.wire_id][:,1]\n",
    "hits_test['wire_r'] = wires_r[hits_test.wire_id][:,0]\n",
    "hits_test['x_plus_y'] = np.array(hits_test['wire_x'].values) + np.array(hits_test['wire_y'].values)\n",
    "hits_test['x_minus_y'] = np.array(hits_test['wire_x'].values) - np.array(hits_test['wire_y'].values)\n",
    "hits_test['xy'] = np.array(hits_test['wire_x'].values) * np.array(hits_test['wire_y'].values)\n",
    "hits_test['log_en'] = np.log(np.array(hits_test['energy_deposit'].values)**2)\n",
    "hits_test['sq_time'] = np.array(hits_test['relative_time'].values)**2"
   ]
  },
  {
   "cell_type": "code",
   "execution_count": null,
   "metadata": {
    "collapsed": true
   },
   "outputs": [],
   "source": [
    "good = hits_train[hits_train.energy_deposit > 0]\n",
    "clf.fit(good[features_list].values, (good.label==1).astype(int))"
   ]
  },
  {
   "cell_type": "code",
   "execution_count": null,
   "metadata": {
    "collapsed": true
   },
   "outputs": [],
   "source": [
    "candidates = hits_test[hits_test.energy_deposit > 0]\n",
    "candidates['prediction'] = clf.predict_proba(candidates[features_list])[:,1]"
   ]
  },
  {
   "cell_type": "markdown",
   "metadata": {},
   "source": [
    "###Filter predictions by the circle center +/- pi/2"
   ]
  },
  {
   "cell_type": "markdown",
   "metadata": {},
   "source": [
    "It goes through each event by id, plots histogram of the predictions and finds it's maximum based on the assumption that it should be around the center of the track circle.\n",
    "Overal it takes about 2-3 minutes to calculate everything."
   ]
  },
  {
   "cell_type": "code",
   "execution_count": null,
   "metadata": {
    "collapsed": true
   },
   "outputs": [],
   "source": [
    "for e in np.unique(candidates.event_id):\n",
    "    ev = candidates[candidates.event_id == e]\n",
    "    a,b=np.histogram(wires_r[ev[ev.prediction > .5].wire_id][:,1], \n",
    "                     weights=np.array(ev[ev.prediction > .5].prediction), bins=30)\n",
    "    # Find the maximum of the histogram and create bounds around it\n",
    "    mn = b[np.argmax(a)+1]\n",
    "    bounds = np.array([mn+(np.pi/2.),mn-(np.pi/2.)])\n",
    "    bounds = [bounds-(2*np.pi), bounds, bounds+(2*np.pi)]\n",
    "    # Complicated conditions, because phi lied within [0, 2pi] but there could\n",
    "    # be problems at the edges of the range.\n",
    "    cond = (wires_r[ev.wire_id][:,1] >= bounds[1][1])*(wires_r[ev.wire_id][:,1] <= bounds[1][0]) + \\\n",
    "    (wires_r[ev.wire_id][:,1] >= bounds[0][1])*(wires_r[ev.wire_id][:,1] <= bounds[0][0]) + \\\n",
    "    (wires_r[ev.wire_id][:,1] >= bounds[2][1])*(wires_r[ev.wire_id][:,1] <= bounds[2][0])\n",
    "    # Set everything outside the bounds to 0\n",
    "    candidates.loc[ev.index[-cond], 'prediction'] = np.zeros(np.sum(-cond))\n",
    "    print e"
   ]
  },
  {
   "cell_type": "code",
   "execution_count": null,
   "metadata": {
    "collapsed": true
   },
   "outputs": [],
   "source": [
    "prs = pd.DataFrame()\n",
    "prs['prediction'] = candidates.prediction\n",
    "prs.index = candidates.index\n",
    "prs.to_csv('rf_with_filter_700.csv', index_label='global_id')"
   ]
  },
  {
   "cell_type": "markdown",
   "metadata": {},
   "source": [
    "### Filter the rest by the window around the track"
   ]
  },
  {
   "cell_type": "code",
   "execution_count": 2,
   "metadata": {
    "collapsed": true
   },
   "outputs": [],
   "source": [
    "#preds = pd.read_csv('rf_with_filter_700.csv', index_col='global_id')\n",
    "preds = pd.read_csv('predictions/rf_manlike_and_filter_700.csv', index_col='global_id')"
   ]
  },
  {
   "cell_type": "code",
   "execution_count": 3,
   "metadata": {
    "collapsed": true
   },
   "outputs": [],
   "source": [
    "hits_test = pd.read_csv(\"data/nonzero_test_xyrphi.csv\", index_col='global_id')\n",
    "hits_test =  pd.concat([hits_test, preds], axis=1)\n",
    "hits_test_fixed = hits_test.copy()"
   ]
  },
  {
   "cell_type": "code",
   "execution_count": 4,
   "metadata": {
    "collapsed": false
   },
   "outputs": [
    {
     "data": {
      "text/html": [
       "<div style=\"max-height:1000px;max-width:1500px;overflow:auto;\">\n",
       "<table border=\"1\" class=\"dataframe\">\n",
       "  <thead>\n",
       "    <tr style=\"text-align: right;\">\n",
       "      <th></th>\n",
       "      <th>event_id</th>\n",
       "      <th>wire_x</th>\n",
       "      <th>wire_y</th>\n",
       "      <th>wire_rho</th>\n",
       "      <th>wire_phi</th>\n",
       "      <th>prediction</th>\n",
       "    </tr>\n",
       "    <tr>\n",
       "      <th>global_id</th>\n",
       "      <th></th>\n",
       "      <th></th>\n",
       "      <th></th>\n",
       "      <th></th>\n",
       "      <th></th>\n",
       "      <th></th>\n",
       "    </tr>\n",
       "  </thead>\n",
       "  <tbody>\n",
       "    <tr>\n",
       "      <th>7619403</th>\n",
       "      <td> 1700</td>\n",
       "      <td> 52.760012</td>\n",
       "      <td>  5.037970</td>\n",
       "      <td> 53</td>\n",
       "      <td> 0.095200</td>\n",
       "      <td> 0.000000</td>\n",
       "    </tr>\n",
       "    <tr>\n",
       "      <th>7619407</th>\n",
       "      <td> 1700</td>\n",
       "      <td> 51.697779</td>\n",
       "      <td> 11.676458</td>\n",
       "      <td> 53</td>\n",
       "      <td> 0.222133</td>\n",
       "      <td> 0.964286</td>\n",
       "    </tr>\n",
       "    <tr>\n",
       "      <th>7619408</th>\n",
       "      <td> 1700</td>\n",
       "      <td> 51.301281</td>\n",
       "      <td> 13.310843</td>\n",
       "      <td> 53</td>\n",
       "      <td> 0.253866</td>\n",
       "      <td> 0.734286</td>\n",
       "    </tr>\n",
       "    <tr>\n",
       "      <th>7619415</th>\n",
       "      <td> 1700</td>\n",
       "      <td> 47.108279</td>\n",
       "      <td> 24.286006</td>\n",
       "      <td> 53</td>\n",
       "      <td> 0.475999</td>\n",
       "      <td> 0.000000</td>\n",
       "    </tr>\n",
       "    <tr>\n",
       "      <th>7619422</th>\n",
       "      <td> 1700</td>\n",
       "      <td> 40.600355</td>\n",
       "      <td> 34.067743</td>\n",
       "      <td> 53</td>\n",
       "      <td> 0.698132</td>\n",
       "      <td> 0.000000</td>\n",
       "    </tr>\n",
       "  </tbody>\n",
       "</table>\n",
       "</div>"
      ],
      "text/plain": [
       "           event_id     wire_x     wire_y  wire_rho  wire_phi  prediction\n",
       "global_id                                                                \n",
       "7619403        1700  52.760012   5.037970        53  0.095200    0.000000\n",
       "7619407        1700  51.697779  11.676458        53  0.222133    0.964286\n",
       "7619408        1700  51.301281  13.310843        53  0.253866    0.734286\n",
       "7619415        1700  47.108279  24.286006        53  0.475999    0.000000\n",
       "7619422        1700  40.600355  34.067743        53  0.698132    0.000000"
      ]
     },
     "execution_count": 4,
     "metadata": {},
     "output_type": "execute_result"
    }
   ],
   "source": [
    "hits_test.head()"
   ]
  },
  {
   "cell_type": "markdown",
   "metadata": {},
   "source": [
    "## Choosing event to check"
   ]
  },
  {
   "cell_type": "code",
   "execution_count": 59,
   "metadata": {
    "collapsed": true
   },
   "outputs": [],
   "source": [
    "check_id = 1700"
   ]
  },
  {
   "cell_type": "markdown",
   "metadata": {},
   "source": [
    "##Checking predictions"
   ]
  },
  {
   "cell_type": "code",
   "execution_count": 60,
   "metadata": {
    "collapsed": false
   },
   "outputs": [
    {
     "data": {
      "text/plain": [
       "<matplotlib.legend.Legend at 0x7f1c609c0dd0>"
      ]
     },
     "execution_count": 60,
     "metadata": {},
     "output_type": "execute_result"
    },
    {
     "data": {
      "image/png": "[encoded data removed]",
      "text/plain": [
       "<matplotlib.figure.Figure at 0x7f1c60b29d90>"
      ]
     },
     "metadata": {},
     "output_type": "display_data"
    }
   ],
   "source": [
    "ev = hits_test[hits_test.event_id == check_id]\n",
    "\n",
    "vals = np.unique(ev.prediction)\n",
    "\n",
    "fig = plt.figure(figsize = (10,10))\n",
    "ax = fig.add_subplot(1, 1, 1)\n",
    "\n",
    "a = np.histogram(ev.wire_x[ev.prediction > 0.5].values, bins=20)\n",
    "b = np.histogram(ev.wire_y[ev.prediction > 0.5].values, bins=20)\n",
    "\n",
    "x_mean = a[1][np.argmax(a[0])]\n",
    "y_mean = b[1][np.argmax(b[0])]\n",
    "\n",
    "for pr in vals:\n",
    "    plt.plot([ev.loc[i,'wire_x'] for i in ev[ev.prediction==pr].index], \n",
    "             [ev.loc[i,'wire_y'] for i in ev[ev.prediction==pr].index], 'k.', alpha = pr)\n",
    "    \n",
    "circ = plt.Circle((25,53), radius=19, color='r', linestyle='dashed', alpha=0.5, fill=False)\n",
    "ax.add_patch(circ)\n",
    "ax.text(-5, 74, r'Noise left after angle filtration', fontsize=15)\n",
    "plt.plot(x_mean, y_mean, 'ro', label='Center of x and y histograms')\n",
    "plt.legend(numpoints=1)"
   ]
  },
  {
   "cell_type": "markdown",
   "metadata": {},
   "source": [
    "##Performing denoise by x-y in cycle\n",
    "\n",
    "Condition is pretty straightforward: remove all the predictions outside 160x160 square with center in the red dot. A bit of overkill, but we needed to be sure that we wouldn't kill any signal points. There also was a try to perform filtering by radius (commented below), which didn't work. "
   ]
  },
  {
   "cell_type": "code",
   "execution_count": 35,
   "metadata": {
    "collapsed": false
   },
   "outputs": [
    {
     "name": "stderr",
     "output_type": "stream",
     "text": [
      "/usr/local/lib/python2.7/dist-packages/pandas/computation/expressions.py:184: UserWarning: evaluating in Python space because the '*' operator is not supported by numexpr for the bool dtype, use '&' instead\n",
      "  unsupported[op_str]))\n"
     ]
    }
   ],
   "source": [
    "for e in np.unique(hits_test.event_id):\n",
    "    ev = hits_test[hits_test.event_id == e]\n",
    "    a = np.histogram(ev.wire_x[ev.prediction > 0.5].values, bins=20)\n",
    "    #a_weihted = np.histogram(ev.wire_x[ev.prediction > 0.5].values, bins=20, weights=ev.prediction[ev.prediction>0.5])\n",
    "    x_mean = a[1][np.argmax(a[0])]\n",
    "    bounds_x = np.array([x_mean-80, x_mean+80])\n",
    "    cond_x = (ev.wire_x > bounds_x[0])*(ev.wire_x < bounds_x[1])\n",
    "       \n",
    "    b = np.histogram(ev.wire_y[ev.prediction > 0.5].values, bins= 20, normed=True)\n",
    "    y_mean = b[1][np.argmax(b[0])]\n",
    "    bounds_y = np.array([y_mean-80, y_mean+80])\n",
    "    cond_y = (ev.wire_y > bounds_y[0])*(ev.wire_y < bounds_y[1])\n",
    "    \n",
    "    #there also was a try to perform filtering by radius\n",
    "    #ar = np.histogram(ev_fixed.wire_rho.values, bins=40, weights=ev_fixed.prediction.values)\n",
    "    #r_mean = ar[1][np.argmax(ar[0])]\n",
    "    #cond_r = ev.wire_rho > r_mean+5\n",
    "    \n",
    "    hits_test_fixed.loc[ev.index[-cond_x], 'prediction'] = np.zeros(np.sum(-cond_x))\n",
    "    hits_test_fixed.loc[ev.index[-cond_y], 'prediction'] = np.zeros(np.sum(-cond_y))\n",
    "    #hits_test_fixed.loc[ev.index[-cond_r], 'prediction'] = np.zeros(np.sum(-cond_r))\n",
    "    \n",
    "    #print e"
   ]
  },
  {
   "cell_type": "code",
   "execution_count": 61,
   "metadata": {
    "collapsed": false,
    "scrolled": false
   },
   "outputs": [
    {
     "data": {
      "text/plain": [
       "<matplotlib.text.Text at 0x7f1c607a73d0>"
      ]
     },
     "execution_count": 61,
     "metadata": {},
     "output_type": "execute_result"
    },
    {
     "data": {
      "image/png": "[encoded data removed]",
      "text/plain": [
       "<matplotlib.figure.Figure at 0x7f1c6135a6d0>"
      ]
     },
     "metadata": {},
     "output_type": "display_data"
    }
   ],
   "source": [
    "ev_fixed = hits_test_fixed[hits_test.event_id == check_id]\n",
    "vals_fixed = np.unique(ev_fixed.prediction)\n",
    "fig = plt.figure(figsize = (10,10))\n",
    "\n",
    "ax = fig.add_subplot(1, 1, 1)\n",
    "\n",
    "a = np.histogram(ev_fixed[ev_fixed.prediction > 0.5].wire_rho.values, bins=40, weights=ev_fixed[ev_fixed.prediction > 0.5].prediction.values)\n",
    "\n",
    "\n",
    "maxr = a[1][np.argmax(a[0])]\n",
    "\n",
    "for pr in vals_fixed:\n",
    "    plt.plot([ev_fixed.loc[i,'wire_x'] for i in ev_fixed[ev_fixed.prediction==pr].index], \n",
    "             [ev_fixed.loc[i,'wire_y'] for i in ev_fixed[ev_fixed.prediction==pr].index], 'k.', alpha = pr)\n",
    "    \n",
    "circ = plt.Circle((25,53), radius=19, color='r', linestyle='dashed', alpha=0.5, fill=False)\n",
    "ax.add_patch(circ)\n",
    "ax.text(3, 74, r'Now noise is gone!', fontsize=15)"
   ]
  },
  {
   "cell_type": "markdown",
   "metadata": {},
   "source": [
    "##Saving predictions for submit and hoping for the best."
   ]
  },
  {
   "cell_type": "code",
   "execution_count": null,
   "metadata": {
    "collapsed": true
   },
   "outputs": [],
   "source": [
    "prs = pd.DataFrame()\n",
    "prs['prediction'] = hits_test_fixed.prediction\n",
    "prs.index = hits_test_fixed.index\n",
    "prs.to_csv('rf_manlike_and_filter_700_xy_denoise.csv', index_label='global_id')"
   ]
  },
  {
   "cell_type": "markdown",
   "metadata": {},
   "source": [
    "##Thank you!"
   ]
  }
 ],
 "metadata": {
  "kernelspec": {
   "display_name": "Python 2",
   "language": "python",
   "name": "python2"
  },
  "language_info": {
   "codemirror_mode": {
    "name": "ipython",
    "version": 2
   },
   "file_extension": ".py",
   "mimetype": "text/x-python",
   "name": "python",
   "nbconvert_exporter": "python",
   "pygments_lexer": "ipython2",
   "version": "2.7.6"
  }
 },
 "nbformat": 4,
 "nbformat_minor": 0
}
