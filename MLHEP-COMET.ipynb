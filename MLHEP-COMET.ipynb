{
 "cells": [
  {
   "cell_type": "code",
   "execution_count": null,
   "metadata": {
    "collapsed": true
   },
   "outputs": [],
   "source": [
    "import pandas as pd\n",
    "import numpy as np\n",
    "import matplotlib.pyplot as plt\n",
    "%matplotlib inline"
   ]
  },
  {
   "cell_type": "markdown",
   "metadata": {},
   "source": [
    "### Initial random forest predictions"
   ]
  },
  {
   "cell_type": "code",
   "execution_count": null,
   "metadata": {
    "collapsed": true
   },
   "outputs": [],
   "source": [
    "hits_train = pd.read_csv(\"data/train.csv\", index_col='global_id')\n",
    "hits_test = pd.read_csv(\"data/test.csv\", index_col='global_id')\n",
    "wires = pd.read_csv(\"data/wires.csv\", index_col='wire_id')"
   ]
  },
  {
   "cell_type": "code",
   "execution_count": null,
   "metadata": {
    "collapsed": true
   },
   "outputs": [],
   "source": [
    "wires_cartesian = np.vstack((wires['wire_rho'] * np.cos(wires['wire_phi']),\n",
    "                                  wires['wire_rho'] * np.sin(wires['wire_phi']))).T\n",
    "wires_r = np.vstack((wires['wire_rho'], wires['wire_phi'])).T"
   ]
  },
  {
   "cell_type": "code",
   "execution_count": null,
   "metadata": {
    "collapsed": true
   },
   "outputs": [],
   "source": [
    "from sklearn.ensemble import RandomForestClassifier"
   ]
  },
  {
   "cell_type": "code",
   "execution_count": null,
   "metadata": {
    "collapsed": true
   },
   "outputs": [],
   "source": [
    "features_list = ['energy_deposit', 'relative_time', 'wire_x', 'wire_y', \n",
    "                 'wire_r', 'x_plus_y', 'x_minus_y', 'xy', 'log_en', 'sq_time']"
   ]
  },
  {
   "cell_type": "code",
   "execution_count": null,
   "metadata": {
    "collapsed": true
   },
   "outputs": [],
   "source": [
    "clf = RandomForestClassifier(n_estimators=700, criterion='gini', \n",
    "                             max_depth=None, n_jobs=-1, verbose=0, random_state=1, \n",
    "                             min_weight_fraction_leaf=0.0, class_weight=None)"
   ]
  },
  {
   "cell_type": "code",
   "execution_count": null,
   "metadata": {
    "collapsed": true
   },
   "outputs": [],
   "source": [
    "hits_train['wire_x'] = wires_cartesian[hits_train.wire_id][:,0]\n",
    "hits_train['wire_y'] = wires_cartesian[hits_train.wire_id][:,1]\n",
    "hits_train['wire_r'] = wires_r[hits_train.wire_id][:,0]\n",
    "hits_train['x_plus_y'] = np.array(hits_train['wire_x'].values) + np.array(hits_train['wire_y'].values)\n",
    "hits_train['x_minus_y'] = np.array(hits_train['wire_x'].values) - np.array(hits_train['wire_y'].values)\n",
    "hits_train['xy'] = np.array(hits_train['wire_x'].values) * np.array(hits_train['wire_y'].values)\n",
    "hits_train['log_en'] = np.log(np.array(hits_train['energy_deposit'].values)**2)\n",
    "hits_train['sq_time'] = np.array(hits_train['relative_time'].values)**2"
   ]
  },
  {
   "cell_type": "code",
   "execution_count": null,
   "metadata": {
    "collapsed": true
   },
   "outputs": [],
   "source": [
    "hits_test['wire_x'] = wires_cartesian[hits_test.wire_id][:,0]\n",
    "hits_test['wire_y'] = wires_cartesian[hits_test.wire_id][:,1]\n",
    "hits_test['wire_r'] = wires_r[hits_test.wire_id][:,0]\n",
    "hits_test['x_plus_y'] = np.array(hits_test['wire_x'].values) + np.array(hits_test['wire_y'].values)\n",
    "hits_test['x_minus_y'] = np.array(hits_test['wire_x'].values) - np.array(hits_test['wire_y'].values)\n",
    "hits_test['xy'] = np.array(hits_test['wire_x'].values) * np.array(hits_test['wire_y'].values)\n",
    "hits_test['log_en'] = np.log(np.array(hits_test['energy_deposit'].values)**2)\n",
    "hits_test['sq_time'] = np.array(hits_test['relative_time'].values)**2"
   ]
  },
  {
   "cell_type": "code",
   "execution_count": null,
   "metadata": {
    "collapsed": true
   },
   "outputs": [],
   "source": [
    "good = hits_train[hits_train.energy_deposit > 0]\n",
    "clf.fit(good[features_list].values, (good.label==1).astype(int))"
   ]
  },
  {
   "cell_type": "code",
   "execution_count": null,
   "metadata": {
    "collapsed": true
   },
   "outputs": [],
   "source": [
    "candidates = hits_test[hits_test.energy_deposit > 0]\n",
    "candidates['prediction'] = clf.predict_proba(candidates[features_list])[:,1]"
   ]
  },
  {
   "cell_type": "markdown",
   "metadata": {},
   "source": [
    "###Filter predictions by the circle center +/- pi/2"
   ]
  },
  {
   "cell_type": "markdown",
   "metadata": {},
   "source": [
    "It goes through each event by id, plots histogram of the predictions and finds it's maximum based on the assumption that it should be around the center of the track circle.\n",
    "Overal it takes about 2-3 minutes to calculate everything."
   ]
  },
  {
   "cell_type": "code",
   "execution_count": null,
   "metadata": {
    "collapsed": true
   },
   "outputs": [],
   "source": [
    "for e in np.unique(candidates.event_id):\n",
    "    ev = candidates[candidates.event_id == e]\n",
    "    a,b=np.histogram(wires_r[ev[ev.prediction > .5].wire_id][:,1], \n",
    "                     weights=np.array(ev[ev.prediction > .5].prediction), bins=30)\n",
    "    # Find the maximum of the histogram and create bounds around it\n",
    "    mn = b[np.argmax(a)+1]\n",
    "    bounds = np.array([mn+(np.pi/2.),mn-(np.pi/2.)])\n",
    "    bounds = [bounds-(2*np.pi), bounds, bounds+(2*np.pi)]\n",
    "    # Complicated conditions, because phi lied within [0, 2pi] but there could\n",
    "    # be problems at the edges of the range.\n",
    "    cond = (wires_r[ev.wire_id][:,1] >= bounds[1][1])*(wires_r[ev.wire_id][:,1] <= bounds[1][0]) + \\\n",
    "    (wires_r[ev.wire_id][:,1] >= bounds[0][1])*(wires_r[ev.wire_id][:,1] <= bounds[0][0]) + \\\n",
    "    (wires_r[ev.wire_id][:,1] >= bounds[2][1])*(wires_r[ev.wire_id][:,1] <= bounds[2][0])\n",
    "    # Set everything outside the bounds to 0\n",
    "    candidates.loc[ev.index[-cond], 'prediction'] = np.zeros(np.sum(-cond))\n",
    "    print e"
   ]
  },
  {
   "cell_type": "code",
   "execution_count": null,
   "metadata": {
    "collapsed": true
   },
   "outputs": [],
   "source": [
    "prs = pd.DataFrame()\n",
    "prs['prediction'] = candidates.prediction\n",
    "prs.index = candidates.index\n",
    "prs.to_csv('rf_with_filter_700.csv', index_label='global_id')"
   ]
  },
  {
   "cell_type": "markdown",
   "metadata": {},
   "source": [
    "### Filter the rest by the window around the track"
   ]
  },
  {
   "cell_type": "code",
   "execution_count": null,
   "metadata": {
    "collapsed": true
   },
   "outputs": [],
   "source": [
    "preds = pd.read_csv('rf_with_filter_700.csv', index_col='global_id')"
   ]
  },
  {
   "cell_type": "code",
   "execution_count": null,
   "metadata": {
    "collapsed": true
   },
   "outputs": [],
   "source": []
  }
 ],
 "metadata": {
  "kernelspec": {
   "display_name": "Python 2",
   "language": "python",
   "name": "python2"
  },
  "language_info": {
   "codemirror_mode": {
    "name": "ipython",
    "version": 2
   },
   "file_extension": ".py",
   "mimetype": "text/x-python",
   "name": "python",
   "nbconvert_exporter": "python",
   "pygments_lexer": "ipython2",
   "version": "2.7.10"
  }
 },
 "nbformat": 4,
 "nbformat_minor": 0
}
